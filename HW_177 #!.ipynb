{
 "cells": [
  {
   "cell_type": "markdown",
   "metadata": {},
   "source": [
    "# P177_Homework01\n",
    "Henry Casarez\n",
    "4/13/17\n",
    "Physics 177 HW #1\n",
    "\n",
    "## 3. My MARKDOWN CELL\n",
    " \n",
    " - My favorite foods\n",
    "   - Pizza\n",
    "   - Fried Chcicken **BUT** I'm vegetarian \n",
    "   - Mac N Cheese\n",
    "   \n",
    " - My favorite Movies\n",
    "   - Jurrassic Park *1993*\n",
    "   - War of the Worlds *2005*\n",
    "   - Arrival *2016*\n",
    "   \n",
    "\n",
    "### MY LATEX EQUATION\n",
    "\n",
    "- $e ^ {i\\pi} + 1 = 0$\n",
    "\n",
    "\n",
    "[Your Name Trailer](https://www.youtube.com/watch?v=s0wTdCQoc2k) <-----\n",
    "\n",
    "\n",
    "\n",
    "\n",
    "\n",
    "\n",
    "## 5. Rounding error\n",
    "\n",
    "##### .1 is never stored exactly as .1 it is stored in binary as the nearest approximation. It is never exact. So .1 can be stored as .1000000000001 or .1000000009338843. Thus, reasoable error is bound to accumulate when you add .1 + .1 + .1  and so when you see whether or not .1 + .1 + .1 == 3 the answer will return false.  It's all error based.\n"
   ]
  },
  {
   "cell_type": "markdown",
   "metadata": {},
   "source": [
    "## 4. Simpsons Rule Code"
   ]
  },
  {
   "cell_type": "code",
   "execution_count": null,
   "metadata": {
    "collapsed": true
   },
   "outputs": [],
   "source": [
    "def f(x):\n",
    "    return (3.0*(10**-10))*(x**2)\n",
    "    "
   ]
  },
  {
   "cell_type": "code",
   "execution_count": null,
   "metadata": {
    "collapsed": true
   },
   "outputs": [],
   "source": [
    "def g(x):\n",
    "    return (3.0*(10**-10))*(x**2)"
   ]
  },
  {
   "cell_type": "code",
   "execution_count": null,
   "metadata": {
    "collapsed": true
   },
   "outputs": [],
   "source": [
    "f(.1)"
   ]
  },
  {
   "cell_type": "code",
   "execution_count": null,
   "metadata": {
    "collapsed": true
   },
   "outputs": [],
   "source": [
    "g(o)"
   ]
  },
  {
   "cell_type": "code",
   "execution_count": null,
   "metadata": {
    "collapsed": true
   },
   "outputs": [],
   "source": [
    "def integrator(deltax,f,g): \n",
    "    sample = (detax/3)\n",
    "    value =(sample)(f(-deltax)+4(f)+f(deltax))\n",
    "    return value\n"
   ]
  }
 ],
 "metadata": {
  "kernelspec": {
   "display_name": "Python 3",
   "language": "python",
   "name": "python3"
  },
  "language_info": {
   "codemirror_mode": {
    "name": "ipython",
    "version": 3
   },
   "file_extension": ".py",
   "mimetype": "text/x-python",
   "name": "python",
   "nbconvert_exporter": "python",
   "pygments_lexer": "ipython3",
   "version": "3.6.0"
  }
 },
 "nbformat": 4,
 "nbformat_minor": 2
}
