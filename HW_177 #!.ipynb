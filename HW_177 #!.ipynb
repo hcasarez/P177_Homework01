{
 "cells": [
  {
   "cell_type": "markdown",
   "metadata": {},
   "source": [
    "# P177_Homework01\n",
    "Henry Casarez\n",
    "4/13/17\n",
    "Physics 177 HW #1\n",
    "\n",
    "## 3. My MARKDOWN CELL\n",
    " \n",
    " - My favorite foods\n",
    "   - Pizza\n",
    "   - Fried Chcicken **BUT** I'm vegetarian \n",
    "   - Mac N Cheese\n",
    "   \n",
    " - My favorite Movies\n",
    "   - Jurrassic Park *1993*\n",
    "   - War of the Worlds *2005*\n",
    "   - Arrival *2016*\n",
    "   \n",
    "   \n",
    "   \n",
    "\n",
    "### MY LATEX EQUATION\n",
    "\n",
    "- $e ^ {i\\pi} + 1 = 0$\n",
    "\n",
    "\n",
    "[Your Name Trailer](https://www.youtube.com/watch?v=s0wTdCQoc2k) <-----\n",
    "\n",
    "\n",
    "\n",
    "\n",
    "\n",
    "\n"
   ]
  },
  {
   "cell_type": "code",
   "execution_count": 27,
   "metadata": {
    "collapsed": false
   },
   "outputs": [
    {
     "data": {
      "text/html": [
       "<iframe width=\"560\" height=\"315\" src=\"https://www.youtube.com/embed/o4-URMnBOPU\" frameborder=\"0\" allowfullscreen></iframe>"
      ],
      "text/plain": [
       "<IPython.core.display.HTML object>"
      ]
     },
     "metadata": {},
     "output_type": "display_data"
    }
   ],
   "source": [
    "%%HTML\n",
    "<iframe width=\"560\" height=\"315\" src=\"https://www.youtube.com/embed/o4-URMnBOPU\" frameborder=\"0\" allowfullscreen></iframe>"
   ]
  },
  {
   "cell_type": "markdown",
   "metadata": {},
   "source": [
    " ## 5. Rounding error\n",
    "\n",
    "##### .1 is never stored exactly as .1 it is stored in binary as the nearest approximation. It is never exact. So .1 can be stored as .1000000000001 or .1000000009338843. Thus, reasoable error is bound to accumulate when you add .1 + .1 + .1  and so when you see whether or not .1 + .1 + .1 == 3 the answer will return false.  It's all error based."
   ]
  },
  {
   "cell_type": "markdown",
   "metadata": {},
   "source": [
    "##### When you add .1+.1 however the error has not accumulated so .1+.1 is still read as == to .2 and stated as **true** . Like I said. this all has to do with the binary and how it is not stored exactly as .1. It really is quite cool."
   ]
  },
  {
   "cell_type": "markdown",
   "metadata": {},
   "source": [
    "## 4. Simpsons Rule Code"
   ]
  },
  {
   "cell_type": "code",
   "execution_count": 45,
   "metadata": {
    "collapsed": true
   },
   "outputs": [],
   "source": [
    "import math"
   ]
  },
  {
   "cell_type": "code",
   "execution_count": null,
   "metadata": {
    "collapsed": true
   },
   "outputs": [],
   "source": []
  },
  {
   "cell_type": "code",
   "execution_count": 95,
   "metadata": {
    "collapsed": false
   },
   "outputs": [],
   "source": [
    "xval = .1"
   ]
  },
  {
   "cell_type": "code",
   "execution_count": 111,
   "metadata": {
    "collapsed": false
   },
   "outputs": [],
   "source": [
    "\n",
    "def integrator(f,xval): \n",
    "    sample=xval\n",
    "    value = 0.0\n",
    "    while (sample < 1):\n",
    "        value = value + (((xval)/3.0)*((f(sample -xval))+(4.0*(f(sample)))+f(sample + xval)))\n",
    "        sample = sample +2*xval\n",
    "    return value "
   ]
  },
  {
   "cell_type": "code",
   "execution_count": null,
   "metadata": {
    "collapsed": true
   },
   "outputs": [],
   "source": [
    "def f(x):\n",
    "    value =(3*(10**-10))*(x**2)\n",
    "return value"
   ]
  },
  {
   "cell_type": "code",
   "execution_count": 125,
   "metadata": {
    "collapsed": false
   },
   "outputs": [
    {
     "data": {
      "text/plain": [
       "9.999999999999999e-11"
      ]
     },
     "execution_count": 125,
     "metadata": {},
     "output_type": "execute_result"
    }
   ],
   "source": [
    "integrator(f,.1)"
   ]
  },
  {
   "cell_type": "code",
   "execution_count": 126,
   "metadata": {
    "collapsed": false
   },
   "outputs": [],
   "source": [
    "someDeltax=[]\n",
    "for i in range(1,8):\n",
    "    someDeltax.append(10**-i)"
   ]
  },
  {
   "cell_type": "code",
   "execution_count": 127,
   "metadata": {
    "collapsed": false
   },
   "outputs": [
    {
     "data": {
      "text/plain": [
       "[0.1, 0.01, 0.001, 0.0001, 1e-05, 1e-06, 1e-07]"
      ]
     },
     "execution_count": 127,
     "metadata": {},
     "output_type": "execute_result"
    }
   ],
   "source": [
    "someDeltax"
   ]
  },
  {
   "cell_type": "markdown",
   "metadata": {},
   "source": [
    "## Integrator Errors"
   ]
  },
  {
   "cell_type": "code",
   "execution_count": 128,
   "metadata": {
    "collapsed": true
   },
   "outputs": [],
   "source": [
    "def intError(deltax):\n",
    "    \"\"\"gives the errror\"\"\"\n",
    "    return 10**-10 - integrator(f,deltax)"
   ]
  },
  {
   "cell_type": "code",
   "execution_count": 129,
   "metadata": {
    "collapsed": false
   },
   "outputs": [
    {
     "data": {
      "text/plain": [
       "1.2924697071141057e-26"
      ]
     },
     "execution_count": 129,
     "metadata": {},
     "output_type": "execute_result"
    }
   ],
   "source": [
    "intError(.1)"
   ]
  },
  {
   "cell_type": "code",
   "execution_count": 132,
   "metadata": {
    "collapsed": false
   },
   "outputs": [
    {
     "data": {
      "text/plain": [
       "[1.2924697071141057e-26,\n",
       " -9.04728794979874e-26,\n",
       " -1.809457589959748e-25,\n",
       " 1.270497722093166e-23,\n",
       " -1.174467222854588e-22,\n",
       " 1.5447210198515658e-21,\n",
       " -5.135628381217899e-21]"
      ]
     },
     "execution_count": 132,
     "metadata": {},
     "output_type": "execute_result"
    }
   ],
   "source": [
    "list(map(intError,someDeltax))"
   ]
  },
  {
   "cell_type": "markdown",
   "metadata": {},
   "source": [
    "### I see that as we get from $10^{-1}$ to $10^{-7}$ that our approximation gets better. The approximation is better as the Riamann Sum's one had an error that never peaker past $10^{-22}$. We can tell and know that as the numbers get closer and closer to $10^{-16}$ we will get a better approximation and then we will slowly get a worse aproximation as we get closer to $10^{-16}$ "
   ]
  },
  {
   "cell_type": "code",
   "execution_count": null,
   "metadata": {
    "collapsed": true
   },
   "outputs": [],
   "source": []
  },
  {
   "cell_type": "code",
   "execution_count": null,
   "metadata": {
    "collapsed": true
   },
   "outputs": [],
   "source": []
  }
 ],
 "metadata": {
  "kernelspec": {
   "display_name": "Python 3",
   "language": "python",
   "name": "python3"
  },
  "language_info": {
   "codemirror_mode": {
    "name": "ipython",
    "version": 3
   },
   "file_extension": ".py",
   "mimetype": "text/x-python",
   "name": "python",
   "nbconvert_exporter": "python",
   "pygments_lexer": "ipython3",
   "version": "3.6.0"
  }
 },
 "nbformat": 4,
 "nbformat_minor": 2
}
